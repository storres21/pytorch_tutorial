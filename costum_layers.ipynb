{
 "cells": [
  {
   "cell_type": "markdown",
   "metadata": {},
   "source": [
    "con nn.module puedo crear mi propia capa o un módulo que puedo reutilizar en varias capas"
   ]
  },
  {
   "cell_type": "code",
   "execution_count": 5,
   "metadata": {},
   "outputs": [],
   "source": [
    "import torch\n",
    "import torch.nn as nn"
   ]
  },
  {
   "cell_type": "code",
   "execution_count": 6,
   "metadata": {},
   "outputs": [],
   "source": [
    "class myLayer(nn.Module):\n",
    "    def __init__(self,size_in):\n",
    "        super().__init__()\n",
    "        self.size = size_in\n",
    "        #quiero que mi capa haga [1,2]*[2,2]=[2,4] pero tengo que actualizar pesos, así lo hago:\n",
    "        weight = torch.Tensor(self.size)\n",
    "        self.weight = nn.Parameter(weight)\n",
    "        # si ahgo esto self.weight = weight no se actualizan los pesos\n",
    "        # inicializacion normal\n",
    "        torch.nn.init.normal_(self.weight, mean=0.0, std=1.0)\n",
    "        \n",
    "    def forward(self,x):\n",
    "        return x * self.weight"
   ]
  },
  {
   "cell_type": "code",
   "execution_count": 7,
   "metadata": {},
   "outputs": [],
   "source": [
    "#instancia de la capa\n",
    "a = myLayer(10)"
   ]
  },
  {
   "cell_type": "code",
   "execution_count": 8,
   "metadata": {},
   "outputs": [
    {
     "data": {
      "text/plain": [
       "Parameter containing:\n",
       "tensor([ 2.0050, -1.5120, -0.4189, -1.5013, -0.6047,  1.0192,  0.6854, -0.3820,\n",
       "         0.1315, -2.7018], requires_grad=True)"
      ]
     },
     "execution_count": 8,
     "metadata": {},
     "output_type": "execute_result"
    }
   ],
   "source": [
    "a.weight"
   ]
  },
  {
   "cell_type": "code",
   "execution_count": 9,
   "metadata": {},
   "outputs": [],
   "source": [
    "#como pueda usar esta capa en otro modulo?\n",
    "myNetwork = nn.Sequential(\n",
    "    myLayer(10),\n",
    "    nn.ReLU()\n",
    ")"
   ]
  },
  {
   "cell_type": "code",
   "execution_count": 10,
   "metadata": {},
   "outputs": [
    {
     "data": {
      "text/plain": [
       "Sequential(\n",
       "  (0): myLayer()\n",
       "  (1): ReLU()\n",
       ")"
      ]
     },
     "execution_count": 10,
     "metadata": {},
     "output_type": "execute_result"
    }
   ],
   "source": [
    "myNetwork"
   ]
  },
  {
   "cell_type": "code",
   "execution_count": 11,
   "metadata": {},
   "outputs": [
    {
     "data": {
      "text/plain": [
       "tensor([[0.0000, 0.7524, 0.0575, 0.0000, 0.3424, 0.2247, 0.0000, 0.2200, 0.3546,\n",
       "         0.3323]], grad_fn=<ReluBackward0>)"
      ]
     },
     "execution_count": 11,
     "metadata": {},
     "output_type": "execute_result"
    }
   ],
   "source": [
    "input = torch.ones([1,10])\n",
    "myNetwork(input)"
   ]
  },
  {
   "cell_type": "code",
   "execution_count": 13,
   "metadata": {},
   "outputs": [
    {
     "data": {
      "text/plain": [
       "tensor([[0.0000, 0.7524, 0.0575, 0.0000, 0.3424, 0.2247, 0.0000, 0.2200, 0.3546,\n",
       "         0.3323],\n",
       "        [0.0000, 0.7524, 0.0575, 0.0000, 0.3424, 0.2247, 0.0000, 0.2200, 0.3546,\n",
       "         0.3323]], grad_fn=<ReluBackward0>)"
      ]
     },
     "execution_count": 13,
     "metadata": {},
     "output_type": "execute_result"
    }
   ],
   "source": [
    "#le puse el 2 y ahora tengo 2 copias de la capa\n",
    "input = torch.ones([2,10])\n",
    "myNetwork(input)"
   ]
  }
 ],
 "metadata": {
  "kernelspec": {
   "display_name": "base",
   "language": "python",
   "name": "python3"
  },
  "language_info": {
   "codemirror_mode": {
    "name": "ipython",
    "version": 3
   },
   "file_extension": ".py",
   "mimetype": "text/x-python",
   "name": "python",
   "nbconvert_exporter": "python",
   "pygments_lexer": "ipython3",
   "version": "3.10.8"
  }
 },
 "nbformat": 4,
 "nbformat_minor": 2
}
