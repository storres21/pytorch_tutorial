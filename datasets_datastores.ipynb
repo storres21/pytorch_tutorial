{
 "cells": [
  {
   "cell_type": "markdown",
   "metadata": {},
   "source": [
    "Los data sets pueden ser de dos tipos: Map-style: Puedo indexar datos en un sample\n",
    " y Iterable-style: no puedo indexar, necesito iterar el sample"
   ]
  },
  {
   "cell_type": "code",
   "execution_count": 8,
   "metadata": {},
   "outputs": [],
   "source": [
    "# Imports\n",
    "import torch\n",
    "from torch import nn\n",
    "from torch.utils.data import Dataset, DataLoader, random_split\n",
    "from PIL import Image\n",
    "import os\n",
    "from torchvision import datasets, transforms\n",
    "import numpy as np\n"
   ]
  },
  {
   "cell_type": "code",
   "execution_count": 9,
   "metadata": {},
   "outputs": [],
   "source": [
    "dataDir = \"data/kagglecatsanddogs_5340/PetImages\""
   ]
  },
  {
   "cell_type": "markdown",
   "metadata": {},
   "source": [
    "Aquí ya tengo los datasets creados pero cómo podría hacer para crear mis propios datasets"
   ]
  },
  {
   "cell_type": "code",
   "execution_count": 10,
   "metadata": {},
   "outputs": [],
   "source": [
    "#como no todas las imagenes son del mismo tamaño, se hace un resize, por eso se pone el transform \n",
    "#función para hacer resize a las imágenes\n",
    "#ToTensor() convierte la imagen en un tensor\n",
    "myTransform = transforms.Compose([\n",
    "    transforms.Resize((224, 224)),\n",
    "    transforms.ToTensor()\n",
    "])\n",
    "my_dataset_1 = datasets.ImageFolder(dataDir, transform=myTransform)"
   ]
  },
  {
   "cell_type": "code",
   "execution_count": 11,
   "metadata": {},
   "outputs": [
    {
     "data": {
      "text/plain": [
       "Dataset ImageFolder\n",
       "    Number of datapoints: 25000\n",
       "    Root location: data/kagglecatsanddogs_5340/PetImages\n",
       "    StandardTransform\n",
       "Transform: Compose(\n",
       "               Resize(size=(224, 224), interpolation=bilinear, max_size=None, antialias=True)\n",
       "               ToTensor()\n",
       "           )"
      ]
     },
     "execution_count": 11,
     "metadata": {},
     "output_type": "execute_result"
    }
   ],
   "source": [
    "my_dataset_1"
   ]
  },
  {
   "cell_type": "code",
   "execution_count": 12,
   "metadata": {},
   "outputs": [
    {
     "data": {
      "text/plain": [
       "['Cat', 'Dog']"
      ]
     },
     "execution_count": 12,
     "metadata": {},
     "output_type": "execute_result"
    }
   ],
   "source": [
    "my_dataset_1.classes"
   ]
  },
  {
   "cell_type": "markdown",
   "metadata": {},
   "source": [
    "Con Dataoader puedo crear un objeto iterable"
   ]
  },
  {
   "cell_type": "code",
   "execution_count": 13,
   "metadata": {},
   "outputs": [],
   "source": [
    "dataLoader1 =  DataLoader(my_dataset_1, batch_size=10, shuffle=True)\n"
   ]
  },
  {
   "cell_type": "code",
   "execution_count": 17,
   "metadata": {},
   "outputs": [
    {
     "data": {
      "text/plain": [
       "tensor([1, 1, 0, 1, 1, 0, 1, 0, 1, 1])"
      ]
     },
     "execution_count": 17,
     "metadata": {},
     "output_type": "execute_result"
    }
   ],
   "source": [
    "#crea 10 imagenes\n",
    "#a,b = iter(dataLoader1).next()\n",
    "a, b = next(iter(dataLoader1))\n",
    "b\n"
   ]
  },
  {
   "cell_type": "markdown",
   "metadata": {},
   "source": [
    "los 1 y 0 son gatos o perros"
   ]
  },
  {
   "cell_type": "markdown",
   "metadata": {},
   "source": [
    "Si quiero crear un costum data set debo hacer un subclass de mi dataset principal"
   ]
  },
  {
   "cell_type": "code",
   "execution_count": 21,
   "metadata": {},
   "outputs": [],
   "source": [
    "class myDataSet(Dataset):\n",
    "    def __init__(self, path):\n",
    "        super().__init__()\n",
    "        #creo una lista con los nombres de las imagenes\n",
    "        self.DogList = os.listdir(path + \"/Dog\")\n",
    "        self.CatList = os.listdir(path + \"/Cat\")\n",
    "        self.label = None\n",
    "        self.dir = path\n",
    "\n",
    "    #para poder manejar la longitud de mi dataset\n",
    "    def __len__(self):\n",
    "        return len(self.DogList) + len(self.CatList)\n",
    "    \n",
    "    #para poder acceder a los elementos de mi dataset\n",
    "    def __getitem__(self, idx):\n",
    "        if idx < len(self.DogList):\n",
    "            self.label = 1\n",
    "            #img = Image.open(self.dir + \"/Dog/\" + self.DogList[idx])\n",
    "            img = Image.open(os.path.join(self.dir, \"Dog\", self.DogList[idx]))\n",
    "        else:\n",
    "            self.label = 0\n",
    "            # img = Image.open(self.dir + \"/Cat/\" + self.CatList[idx - len(self.DogList)])\n",
    "            img = Image.open(os.path.join(self.dir, \"Cat\", self.CatList[idx - len(self.DogList)]))\n",
    "        img = np.asarray(img)\n",
    "        img = np.resize(img, [224, 224])\n",
    "        return img, self.label\n",
    "    "
   ]
  },
  {
   "cell_type": "code",
   "execution_count": 22,
   "metadata": {},
   "outputs": [],
   "source": [
    "catvdog = myDataSet(dataDir)"
   ]
  },
  {
   "cell_type": "code",
   "execution_count": 23,
   "metadata": {},
   "outputs": [],
   "source": [
    "dataLoader2 = DataLoader(catvdog, batch_size=10, shuffle=True)"
   ]
  },
  {
   "cell_type": "code",
   "execution_count": 25,
   "metadata": {},
   "outputs": [
    {
     "data": {
      "text/plain": [
       "tensor([0, 1, 0, 0, 1, 0, 0, 0, 0, 1])"
      ]
     },
     "execution_count": 25,
     "metadata": {},
     "output_type": "execute_result"
    }
   ],
   "source": [
    "a, b = next(iter(dataLoader2))\n",
    "b"
   ]
  }
 ],
 "metadata": {
  "kernelspec": {
   "display_name": "base",
   "language": "python",
   "name": "python3"
  },
  "language_info": {
   "codemirror_mode": {
    "name": "ipython",
    "version": 3
   },
   "file_extension": ".py",
   "mimetype": "text/x-python",
   "name": "python",
   "nbconvert_exporter": "python",
   "pygments_lexer": "ipython3",
   "version": "3.10.8"
  }
 },
 "nbformat": 4,
 "nbformat_minor": 2
}
