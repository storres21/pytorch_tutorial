{
 "cells": [
  {
   "cell_type": "code",
   "execution_count": 21,
   "metadata": {},
   "outputs": [],
   "source": [
    "!pip install torch torchvision torchaudio --index-url https://download.pytorch.org/whl/cu121 --quiet"
   ]
  },
  {
   "cell_type": "code",
   "execution_count": 22,
   "metadata": {},
   "outputs": [],
   "source": [
    "\n",
    "import torch\n",
    "from torch import nn\n",
    "from torch.nn import functional as F\n"
   ]
  },
  {
   "cell_type": "code",
   "execution_count": 23,
   "metadata": {},
   "outputs": [],
   "source": [
    "class Model(nn.Module):\n",
    "    def __init__(self):\n",
    "        super(Model, self).__init__()\n",
    "        self.l1 = nn.Linear(1, 10)\n",
    "        self.l2 = nn.Linear(10, 1)\n",
    "\n",
    "    #define como los datos fluyen por la red\n",
    "    def forward(self, x):\n",
    "        x = self.l1(x)\n",
    "        x = F.relu(x)\n",
    "        x = self.l2(x)\n",
    "        return x"
   ]
  },
  {
   "cell_type": "code",
   "execution_count": 24,
   "metadata": {},
   "outputs": [
    {
     "data": {
      "text/plain": [
       "Model(\n",
       "  (l1): Linear(in_features=1, out_features=10, bias=True)\n",
       "  (l2): Linear(in_features=10, out_features=1, bias=True)\n",
       ")"
      ]
     },
     "execution_count": 24,
     "metadata": {},
     "output_type": "execute_result"
    }
   ],
   "source": [
    "model = Model()\n",
    "model"
   ]
  },
  {
   "cell_type": "code",
   "execution_count": 25,
   "metadata": {},
   "outputs": [
    {
     "data": {
      "text/plain": [
       "tensor([0.7457], grad_fn=<ViewBackward0>)"
      ]
     },
     "execution_count": 25,
     "metadata": {},
     "output_type": "execute_result"
    }
   ],
   "source": [
    "a= torch.tensor([5.])\n",
    "model(a)"
   ]
  },
  {
   "cell_type": "code",
   "execution_count": 26,
   "metadata": {},
   "outputs": [
    {
     "data": {
      "text/plain": [
       "OrderedDict([('l1.weight',\n",
       "              tensor([[ 0.4079],\n",
       "                      [ 0.3886],\n",
       "                      [-0.1713],\n",
       "                      [-0.4757],\n",
       "                      [ 0.8856],\n",
       "                      [ 0.6163],\n",
       "                      [ 0.8054],\n",
       "                      [-0.1101],\n",
       "                      [-0.1766],\n",
       "                      [-0.0763]])),\n",
       "             ('l1.bias',\n",
       "              tensor([-0.3100,  0.4757,  0.1178,  0.7440,  0.8539, -0.7888, -0.5948, -0.2162,\n",
       "                       0.7705, -0.9273])),\n",
       "             ('l2.weight',\n",
       "              tensor([[ 0.1366, -0.0160,  0.0092, -0.1517,  0.1603,  0.1131, -0.2209, -0.0972,\n",
       "                       -0.2121,  0.0736]])),\n",
       "             ('l2.bias', tensor([0.2007]))])"
      ]
     },
     "execution_count": 26,
     "metadata": {},
     "output_type": "execute_result"
    }
   ],
   "source": [
    "# me da una lista de los pesos que tengo\n",
    "model.state_dict()"
   ]
  },
  {
   "cell_type": "code",
   "execution_count": 27,
   "metadata": {},
   "outputs": [
    {
     "data": {
      "text/plain": [
       "<bound method Module.named_parameters of Model(\n",
       "  (l1): Linear(in_features=1, out_features=10, bias=True)\n",
       "  (l2): Linear(in_features=10, out_features=1, bias=True)\n",
       ")>"
      ]
     },
     "execution_count": 27,
     "metadata": {},
     "output_type": "execute_result"
    }
   ],
   "source": [
    "#parametros presentes\n",
    "model.named_parameters"
   ]
  },
  {
   "cell_type": "code",
   "execution_count": 28,
   "metadata": {},
   "outputs": [
    {
     "name": "stdout",
     "output_type": "stream",
     "text": [
      "('l1.weight', Parameter containing:\n",
      "tensor([[ 0.4079],\n",
      "        [ 0.3886],\n",
      "        [-0.1713],\n",
      "        [-0.4757],\n",
      "        [ 0.8856],\n",
      "        [ 0.6163],\n",
      "        [ 0.8054],\n",
      "        [-0.1101],\n",
      "        [-0.1766],\n",
      "        [-0.0763]], requires_grad=True))\n",
      "('l1.bias', Parameter containing:\n",
      "tensor([-0.3100,  0.4757,  0.1178,  0.7440,  0.8539, -0.7888, -0.5948, -0.2162,\n",
      "         0.7705, -0.9273], requires_grad=True))\n",
      "('l2.weight', Parameter containing:\n",
      "tensor([[ 0.1366, -0.0160,  0.0092, -0.1517,  0.1603,  0.1131, -0.2209, -0.0972,\n",
      "         -0.2121,  0.0736]], requires_grad=True))\n",
      "('l2.bias', Parameter containing:\n",
      "tensor([0.2007], requires_grad=True))\n"
     ]
    }
   ],
   "source": [
    "for i in model.named_parameters():\n",
    "    print(i)"
   ]
  },
  {
   "cell_type": "code",
   "execution_count": 29,
   "metadata": {},
   "outputs": [
    {
     "data": {
      "text/plain": [
       "Parameter containing:\n",
       "tensor([[1.],\n",
       "        [1.],\n",
       "        [1.],\n",
       "        [1.],\n",
       "        [1.],\n",
       "        [1.],\n",
       "        [1.],\n",
       "        [1.],\n",
       "        [1.],\n",
       "        [1.]], requires_grad=True)"
      ]
     },
     "execution_count": 29,
     "metadata": {},
     "output_type": "execute_result"
    }
   ],
   "source": [
    "a= torch.ones([10,1])\n",
    "model.l1.weight = torch.nn.Parameter(a)\n",
    "model.l1.weight"
   ]
  },
  {
   "cell_type": "code",
   "execution_count": 30,
   "metadata": {},
   "outputs": [
    {
     "data": {
      "text/plain": [
       "Model(\n",
       "  (l1): Linear(in_features=1, out_features=10, bias=True)\n",
       "  (l2): Linear(in_features=10, out_features=1, bias=True)\n",
       ")"
      ]
     },
     "execution_count": 30,
     "metadata": {},
     "output_type": "execute_result"
    }
   ],
   "source": [
    "#para correrlo en gpu\n",
    "#model.to('cuda:0')\n",
    "#para correr en cpu\n",
    "model.to('cpu')"
   ]
  },
  {
   "cell_type": "code",
   "execution_count": 31,
   "metadata": {},
   "outputs": [
    {
     "data": {
      "text/plain": [
       "tensor([-1.0189], grad_fn=<ViewBackward0>)"
      ]
     },
     "execution_count": 31,
     "metadata": {},
     "output_type": "execute_result"
    }
   ],
   "source": [
    "a= torch.tensor([5.])\n",
    "model(a)"
   ]
  },
  {
   "cell_type": "code",
   "execution_count": 32,
   "metadata": {},
   "outputs": [
    {
     "name": "stdout",
     "output_type": "stream",
     "text": [
      "tensor([-1.0189], grad_fn=<ViewBackward0>)\n",
      "tensor([-1.0189])\n"
     ]
    }
   ],
   "source": [
    "# puedo evaluar mi red de dos formas:\n",
    "# model.eval() hace que la red se comporte como si estuviera en modo de evaluación\n",
    "model.eval()\n",
    "print(model(a))\n",
    "# model.train() hace que la red se comporte como si estuviera en modo de entrenamiento\n",
    "with torch.no_grad():\n",
    "    print(model(a))"
   ]
  },
  {
   "cell_type": "code",
   "execution_count": 33,
   "metadata": {},
   "outputs": [],
   "source": [
    "model.zero_grad()"
   ]
  }
 ],
 "metadata": {
  "kernelspec": {
   "display_name": "base",
   "language": "python",
   "name": "python3"
  },
  "language_info": {
   "codemirror_mode": {
    "name": "ipython",
    "version": 3
   },
   "file_extension": ".py",
   "mimetype": "text/x-python",
   "name": "python",
   "nbconvert_exporter": "python",
   "pygments_lexer": "ipython3",
   "version": "3.10.8"
  }
 },
 "nbformat": 4,
 "nbformat_minor": 2
}
